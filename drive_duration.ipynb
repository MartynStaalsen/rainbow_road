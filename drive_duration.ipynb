{
 "cells": [
  {
   "cell_type": "code",
   "execution_count": 31,
   "metadata": {},
   "outputs": [],
   "source": [
    "import simplejson, urllib\n",
    "import geopandas\n",
    "from geopy.geocoders import Nominatim\n",
    "from geopy.extra.rate_limiter import RateLimiter\n",
    "import googlemaps\n",
    "\n",
    "from time import sleep as sleep\n",
    "import datetime as dt\n",
    "from datetime import timedelta as td\n",
    "from random import randrange\n",
    "import json"
   ]
  },
  {
   "cell_type": "code",
   "execution_count": null,
   "metadata": {},
   "outputs": [],
   "source": [
    "class search_handler:\n",
    "    def __init__(self, api_key):\n",
    "        self.apartment_list = parse_aparments()"
   ]
  },
  {
   "cell_type": "code",
   "execution_count": 57,
   "metadata": {},
   "outputs": [
    {
     "name": "stdout",
     "output_type": "stream",
     "text": [
      "loaded start addresses:\n",
      "\t 2901 Barton Skyway, Austin, TX 78746\n"
     ]
    }
   ],
   "source": [
    "def load_aparments(a_fname=\"apartments.json\", verbose =False):\n",
    "    f_ap=open(a_fname,)\n",
    "    start_addresses = json.load(f_ap)\n",
    "    f_ap.close()\n",
    "    if verbose:\n",
    "        print(\"loaded start addresses:\")\n",
    "        for s in start_addresses:\n",
    "            print('\\t',s)\n",
    "\n",
    "def load_destinations(dest_fname):\n",
    "    f = open(dest_fname)\n",
    "    f\\\n",
    "\n",
    "# a function to parse destinations\n",
    "\n",
    "# a function to load the api key\n",
    "\n",
    "# a function to load lat and londitude for an address\n",
    "\n",
    "\n",
    "import googlemaps\n",
    "from datetime import datetime\n",
    "\n",
    "gmaps = googlemaps.Client(key='YOUR KEY')\n",
    "\n",
    "\n",
    "now = datetime.now()\n",
    "directions_result = gmaps.directions(\"18.997739, 72.841280\",\n",
    "                                     \"18.880253, 72.945137\",\n",
    "                                     mode=\"driving\",\n",
    "                                     avoid=\"ferries\",\n",
    "                                     departure_time=now\n",
    "                                    )\n",
    "\n",
    "print(directions_result[0]['legs'][0]['distance']['text'])\n",
    "print(directions_result[0]['legs'][0]['duration']['text'])"
   ]
  },
  {
   "cell_type": "code",
   "execution_count": 69,
   "metadata": {},
   "outputs": [
    {
     "name": "stdout",
     "output_type": "stream",
     "text": [
      "[-2, 3, -5, 0, -1]\n"
     ]
    }
   ],
   "source": [
    "from random import randrange\n",
    "print([randrange(-5,5) for i in range(5)])"
   ]
  },
  {
   "cell_type": "code",
   "execution_count": null,
   "metadata": {},
   "outputs": [],
   "source": [
    "a_fname=\"apartments.json\"\n",
    "dest_f_name='destinations.json'\n",
    "key_file = 'key.txt'\n",
    "\n",
    "downsample = 5\n",
    "cnt = 0\n",
    "cur_day = dt.datetime.now().weekday()\n",
    "\n",
    "gmaps=load_gmaps(key_file)\n",
    "\n",
    "while True:\n",
    "\n",
    "    for dest in dest_list:\n",
    "        dest_adr = dest['address']\n",
    "        print(dest_adr)\n",
    "        lat_long=get_lat_long(dest_adr)\n",
    "\n",
    "        dest['lat_long']=lat_long\n",
    "\n",
    "    for start_adr in start_addresses:               \n",
    "            print(directions_result[0]['legs'][0]['distance']['text'])\n",
    "print(directions_result[0]['legs'][0]['duration']['text'])\n",
    "\n",
    "        #url = \"http://maps.googleapis.com/maps/api/distancematrix/json?origins={0}&destinations={1}&mode=driving&language=en-EN&sensor=false\".format(str(orig_coord).replace(\" \",''),str(dest_coord).replace(\" \",''))\n",
    "        #result= simplejson.load(urllib.request.urlopen(url))\n",
    "        #print(result)\n",
    "        #driving_time = result['rows'][0]['elements'][0]['duration']['value']\n",
    "        #print(\"drive time from %s to %s is %s\"% (start_adr,dest_adr,driving_time))"
   ]
  },
  {
   "cell_type": "code",
   "execution_count": 15,
   "metadata": {},
   "outputs": [
    {
     "name": "stdout",
     "output_type": "stream",
     "text": [
      "13:11:08.636802\n"
     ]
    }
   ],
   "source": [
    "def add_delta_to_time(t,delta):\n",
    "    a= (dt.datetime.combine(dt.date(1,1,1),t) + delta)\n",
    "    a.time()\n",
    "    return a.time()\n",
    "\n",
    "print(add_delta_to_time(dt.datetime.now().time(),td(hours = 0)))\n"
   ]
  },
  {
   "cell_type": "code",
   "execution_count": 15,
   "metadata": {},
   "outputs": [
    {
     "name": "stdout",
     "output_type": "stream",
     "text": [
      "13:11:08.636802\n"
     ]
    }
   ],
   "source": [
    "def add_delta_to_time(t,delta):\n",
    "    a= (dt.datetime.combine(dt.date(1,1,1),t) + delta)\n",
    "    a.time()\n",
    "    return a.time()\n",
    "\n",
    "print(add_delta_to_time(dt.datetime.now().time(),td(hours = 0)))\n"
   ]
  },
  {
   "cell_type": "code",
   "execution_count": 82,
   "metadata": {},
   "outputs": [],
   "source": []
  }
 ],
 "metadata": {
  "kernelspec": {
   "display_name": "Python 3",
   "language": "python",
   "name": "python3"
  },
  "language_info": {
   "codemirror_mode": {
    "name": "ipython",
    "version": 3
   },
   "file_extension": ".py",
   "mimetype": "text/x-python",
   "name": "python",
   "nbconvert_exporter": "python",
   "pygments_lexer": "ipython3",
   "version": "3.9.13"
  },
  "orig_nbformat": 4,
  "vscode": {
   "interpreter": {
    "hash": "c71ed56dc5228563045e6698b8d776bdb73978719a0181d489d84c4939f0c9e9"
   }
  }
 },
 "nbformat": 4,
 "nbformat_minor": 2
}
